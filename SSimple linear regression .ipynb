{
 "cells": [
  {
   "cell_type": "code",
   "execution_count": null,
   "id": "b09bc854",
   "metadata": {},
   "outputs": [],
   "source": [
    "#1) Delivery_time -> Predict delivery time using sorting time \n",
    "#2) Salary_hike -> Build a prediction model for Salary_hike\n",
    "#Build a simple linear regression model by performing EDA \n",
    "#and do necessary transformations and select the best model using R or Python."
   ]
  },
  {
   "cell_type": "code",
   "execution_count": null,
   "id": "dce6a57b",
   "metadata": {
    "ExecuteTime": {
     "start_time": "2023-02-11T13:52:32.344Z"
    }
   },
   "outputs": [],
   "source": [
    "import pandas as pd\n",
    "import numpy as np\n",
    "import seaborn as sns\n",
    "import statsmodels.formula.api as smf\n",
    "import os\n",
    "import matplotlib.pyplot as plt"
   ]
  },
  {
   "cell_type": "code",
   "execution_count": null,
   "id": "a57f68c6",
   "metadata": {
    "ExecuteTime": {
     "start_time": "2023-02-11T13:52:35.194Z"
    }
   },
   "outputs": [],
   "source": [
    "data=pd.read_csv(r\"C:\\Users\\MS_More\\Desktop\\Data Science\\Materials\\A4\\delivery_time.csv\")"
   ]
  },
  {
   "cell_type": "code",
   "execution_count": null,
   "id": "af7b2692",
   "metadata": {
    "ExecuteTime": {
     "start_time": "2023-02-11T13:53:25.439Z"
    }
   },
   "outputs": [],
   "source": [
    "data.head()"
   ]
  },
  {
   "cell_type": "code",
   "execution_count": null,
   "id": "a8b3094f",
   "metadata": {
    "ExecuteTime": {
     "start_time": "2023-02-11T13:53:53.978Z"
    }
   },
   "outputs": [],
   "source": [
    "data.info()"
   ]
  },
  {
   "cell_type": "code",
   "execution_count": null,
   "id": "b1bc0094",
   "metadata": {},
   "outputs": [],
   "source": []
  }
 ],
 "metadata": {
  "kernelspec": {
   "display_name": "Python 3 (ipykernel)",
   "language": "python",
   "name": "python3"
  },
  "language_info": {
   "codemirror_mode": {
    "name": "ipython",
    "version": 3
   },
   "file_extension": ".py",
   "mimetype": "text/x-python",
   "name": "python",
   "nbconvert_exporter": "python",
   "pygments_lexer": "ipython3",
   "version": "3.9.13"
  }
 },
 "nbformat": 4,
 "nbformat_minor": 5
}
